{
  "cells": [
    {
      "cell_type": "code",
      "source": [
        "import numpy as np\n",
        "import jax.numpy as jnp\n",
        "from jax import value_and_grad,random\n",
        "from jax import jit,vmap\n",
        "from jax.tree_util import tree_map\n",
        "from jax.nn import relu,one_hot\n",
        "from jax.scipy.special import logsumexp"
      ],
      "metadata": {
        "id": "PamNQdA16U-E"
      },
      "execution_count": 62,
      "outputs": []
    },
    {
      "cell_type": "code",
      "source": [
        "seed = 0\n",
        "\n",
        "def init_MLP(layer_widths, parent_key, scale = 0.01):\n",
        "  params = []\n",
        "\n",
        "  keys = random.split(parent_key, num=len(layer_widths)-1)\n",
        "\n",
        "  for n_in, n_out, key in zip(layer_widths[:-1],layer_widths[1:],keys):\n",
        "    weight_key, bias_key = random.split(key)\n",
        "\n",
        "    params.append([\n",
        "        scale*random.normal(weight_key, shape=(n_out,n_in)),\n",
        "        scale*random.normal(bias_key, shape=(n_out,))\n",
        "    ])\n",
        "\n",
        "  return params\n",
        "\n",
        "key = random.PRNGKey(seed)\n",
        "MLP = init_MLP([784,128,128,10], key)\n",
        "tree_map(lambda x: x.shape,MLP)"
      ],
      "metadata": {
        "colab": {
          "base_uri": "https://localhost:8080/"
        },
        "id": "6asZ88bTJqWb",
        "outputId": "b6aa121c-e385-4b7c-cf3b-342924b7bf65"
      },
      "execution_count": 64,
      "outputs": [
        {
          "output_type": "execute_result",
          "data": {
            "text/plain": [
              "[[(128, 784), (128,)], [(128, 128), (128,)], [(10, 128), (10,)]]"
            ]
          },
          "metadata": {},
          "execution_count": 64
        }
      ]
    },
    {
      "cell_type": "code",
      "source": [
        "def MLP_predict(params, x):\n",
        "  hidden_layers = params[:-1]\n",
        "\n",
        "  activation = x\n",
        "  for w,b in hidden_layers:\n",
        "    activation = relu(jnp.dot(w,activation)+b)\n",
        "\n",
        "  w_last, b_last = params[-1]\n",
        "  logits = jnp.dot(w_last,activation)+b_last\n",
        "\n",
        "  return logits-logsumexp(logits)\n",
        "\n",
        "batched_MLP_predict = vmap(MLP_predict, in_axes=(None,0))\n",
        "\n",
        "dummy_img = np.random.randn(16,np.prod((28,28)))\n",
        "pred = batched_MLP_predict(MLP, dummy_img)\n",
        "pred.shape"
      ],
      "metadata": {
        "colab": {
          "base_uri": "https://localhost:8080/"
        },
        "id": "Up2MBjQh6PVV",
        "outputId": "b0610b39-6ddc-4016-d637-58d23d54d536"
      },
      "execution_count": 65,
      "outputs": [
        {
          "output_type": "execute_result",
          "data": {
            "text/plain": [
              "(16, 10)"
            ]
          },
          "metadata": {},
          "execution_count": 65
        }
      ]
    },
    {
      "cell_type": "markdown",
      "source": [
        "## ETL"
      ],
      "metadata": {
        "id": "CbWM54XKH8K6"
      }
    },
    {
      "cell_type": "code",
      "source": [
        "import os\n",
        "from torchvision.datasets import MNIST\n",
        "from torch.utils.data import DataLoader"
      ],
      "metadata": {
        "id": "iQeFWrJWIHjA"
      },
      "execution_count": 66,
      "outputs": []
    },
    {
      "cell_type": "code",
      "source": [
        "print(os.getcwd())"
      ],
      "metadata": {
        "colab": {
          "base_uri": "https://localhost:8080/"
        },
        "id": "hKgtHdIgIm1_",
        "outputId": "243877fc-b141-4f3f-a234-09b4f0937eb8"
      },
      "execution_count": 67,
      "outputs": [
        {
          "output_type": "stream",
          "name": "stdout",
          "text": [
            "/content\n"
          ]
        }
      ]
    },
    {
      "cell_type": "code",
      "source": [
        "def torch2jax(x):\n",
        "  x = np.array(x,dtype=np.float32)\n",
        "  return np.ravel(x)\n",
        "\n",
        "train_dataset = MNIST(root='train_mnist',train=True,download=True, transform=torch2jax)\n",
        "test_dataset = MNIST(root='test_mnist',train=False,download=True,transform=torch2jax)\n",
        "\n",
        "print(type(train_dataset))\n",
        "something = train_dataset[0]\n",
        "print(type(something[0]),type(something[1]))"
      ],
      "metadata": {
        "colab": {
          "base_uri": "https://localhost:8080/"
        },
        "id": "wiu3em4NIW3m",
        "outputId": "ba248192-b185-4a6a-c3ad-69c5809cdc71"
      },
      "execution_count": 68,
      "outputs": [
        {
          "output_type": "stream",
          "name": "stdout",
          "text": [
            "<class 'torchvision.datasets.mnist.MNIST'>\n",
            "<class 'numpy.ndarray'> <class 'int'>\n"
          ]
        }
      ]
    },
    {
      "cell_type": "code",
      "source": [
        "def collate_tensor(batch):\n",
        "  transposed_data = list(zip(*batch))\n",
        "\n",
        "  labels = np.array(transposed_data[1])\n",
        "  imgs = np.stack(transposed_data[0])\n",
        "\n",
        "  return imgs,labels\n",
        "\n",
        "batch_size = 128\n",
        "\n",
        "train_loader = DataLoader(train_dataset,batch_size=batch_size,shuffle=True,collate_fn=collate_tensor,drop_last = True)\n",
        "test_loader = DataLoader(test_dataset,batch_size=batch_size,shuffle=False,collate_fn=collate_tensor,drop_last=True)"
      ],
      "metadata": {
        "id": "rgmX7StaJ_X7"
      },
      "execution_count": 80,
      "outputs": []
    },
    {
      "cell_type": "code",
      "source": [
        "batch_data = next(iter(train_loader))\n",
        "print(type(batch_data[0]))"
      ],
      "metadata": {
        "id": "G4CMSfFnKzbe",
        "outputId": "b666ac03-aed5-443b-e80f-f4105cfdf9ba",
        "colab": {
          "base_uri": "https://localhost:8080/"
        }
      },
      "execution_count": 81,
      "outputs": [
        {
          "output_type": "stream",
          "name": "stdout",
          "text": [
            "<class 'numpy.ndarray'>\n"
          ]
        }
      ]
    },
    {
      "cell_type": "code",
      "source": [
        "imgs = batch_data[0]\n",
        "labels = batch_data[1]"
      ],
      "metadata": {
        "id": "X-aI31HDMUYN"
      },
      "execution_count": 82,
      "outputs": []
    },
    {
      "cell_type": "code",
      "source": [
        "train_img = jnp.array(train_dataset.data).reshape(len(train_dataset),-1)\n",
        "train_labels = jnp.array(train_dataset.targets)\n",
        "\n",
        "test_img = jnp.array(test_dataset.data).reshape(len(test_dataset),-1)\n",
        "test_labels = jnp.array(test_dataset.targets)"
      ],
      "metadata": {
        "id": "eFkcGs6OQPxM"
      },
      "execution_count": 86,
      "outputs": []
    },
    {
      "cell_type": "markdown",
      "source": [
        "## Training"
      ],
      "metadata": {
        "id": "6BIoQ93qMHTL"
      }
    },
    {
      "cell_type": "code",
      "source": [
        "num_epochs = 10\n",
        "\n",
        "def loss_fn(params,imgs,labels):\n",
        "  pred = batched_MLP_predict(params,imgs)\n",
        "  return -jnp.mean(labels*pred)\n",
        "\n",
        "@jit\n",
        "def update(params, imgs, labels,lr=0.01):\n",
        "  loss,grads = value_and_grad(loss_fn)(params,imgs,labels)\n",
        "  return loss,tree_map(lambda p,g: p-lr*g, params, grads)\n",
        "\n",
        "def accuracy(params, dataset_images, dataset_labels):\n",
        "  pred = batched_MLP_predict(params,dataset_images)\n",
        "  return jnp.mean(jnp.argmax(pred,axis=1)==dataset_labels)\n",
        "\n",
        "MLP = init_MLP([784,128,128,10], key)\n",
        "for epoch in range(num_epochs):\n",
        "  print(f\"Epoch {epoch} train_acc = {accuracy(MLP,train_img,train_labels)} test_acc = {accuracy(MLP,test_img,test_labels)}\")\n",
        "  for cnt,(imgs,labels) in enumerate(train_loader):\n",
        "    gt_labels = one_hot(labels,len(MNIST.classes))\n",
        "    loss,MLP = update(MLP, imgs, gt_labels)\n",
        "\n",
        "    if cnt % 100 == 0:\n",
        "      print(f\"Epoch {epoch} batch {cnt} loss = {loss}\")\n",
        "\n",
        "  print(f\"Epoch {epoch} train_acc = {accuracy(MLP,train_img,train_labels)} test_acc = {accuracy(MLP,test_img,test_labels)}\")"
      ],
      "metadata": {
        "id": "mpPkbPDIK6y8",
        "outputId": "eb8a6e39-5ff3-4bad-f3d7-7877ba3e0e45",
        "colab": {
          "base_uri": "https://localhost:8080/"
        }
      },
      "execution_count": 90,
      "outputs": [
        {
          "output_type": "stream",
          "name": "stdout",
          "text": [
            "Epoch 0 train_acc = 0.08196666836738586 test_acc = 0.07490000128746033\n",
            "Epoch 0 batch 0 loss = 0.23143337666988373\n",
            "Epoch 0 batch 100 loss = 0.11790714412927628\n",
            "Epoch 0 batch 200 loss = 0.05963176488876343\n",
            "Epoch 0 batch 300 loss = 0.05189123749732971\n",
            "Epoch 0 batch 400 loss = 0.04215918481349945\n",
            "Epoch 0 train_acc = 0.8927333354949951 test_acc = 0.8973000049591064\n",
            "Epoch 1 train_acc = 0.8927333354949951 test_acc = 0.8973000049591064\n",
            "Epoch 1 batch 0 loss = 0.029500892385840416\n",
            "Epoch 1 batch 100 loss = 0.026191268116235733\n",
            "Epoch 1 batch 200 loss = 0.034240324050188065\n",
            "Epoch 1 batch 300 loss = 0.021444501355290413\n",
            "Epoch 1 batch 400 loss = 0.022068645805120468\n",
            "Epoch 1 train_acc = 0.9136999845504761 test_acc = 0.9185999631881714\n",
            "Epoch 2 train_acc = 0.9136999845504761 test_acc = 0.9185999631881714\n",
            "Epoch 2 batch 0 loss = 0.016713378950953484\n",
            "Epoch 2 batch 100 loss = 0.020525917410850525\n",
            "Epoch 2 batch 200 loss = 0.018545804545283318\n",
            "Epoch 2 batch 300 loss = 0.03267631307244301\n",
            "Epoch 2 batch 400 loss = 0.023131994530558586\n",
            "Epoch 2 train_acc = 0.928933322429657 test_acc = 0.9320999979972839\n",
            "Epoch 3 train_acc = 0.928933322429657 test_acc = 0.9320999979972839\n",
            "Epoch 3 batch 0 loss = 0.022343600168824196\n",
            "Epoch 3 batch 100 loss = 0.019770700484514236\n",
            "Epoch 3 batch 200 loss = 0.024461237713694572\n",
            "Epoch 3 batch 300 loss = 0.020273108035326004\n",
            "Epoch 3 batch 400 loss = 0.0145305460318923\n",
            "Epoch 3 train_acc = 0.9362833499908447 test_acc = 0.9369999766349792\n",
            "Epoch 4 train_acc = 0.9362833499908447 test_acc = 0.9369999766349792\n",
            "Epoch 4 batch 0 loss = 0.017829200252890587\n",
            "Epoch 4 batch 100 loss = 0.03252379223704338\n",
            "Epoch 4 batch 200 loss = 0.02651202119886875\n",
            "Epoch 4 batch 300 loss = 0.011818121187388897\n",
            "Epoch 4 batch 400 loss = 0.01596939191222191\n",
            "Epoch 4 train_acc = 0.9447833299636841 test_acc = 0.9459999799728394\n",
            "Epoch 5 train_acc = 0.9447833299636841 test_acc = 0.9459999799728394\n",
            "Epoch 5 batch 0 loss = 0.02071182243525982\n",
            "Epoch 5 batch 100 loss = 0.016860369592905045\n",
            "Epoch 5 batch 200 loss = 0.01780400611460209\n",
            "Epoch 5 batch 300 loss = 0.011970683000981808\n",
            "Epoch 5 batch 400 loss = 0.012943747453391552\n",
            "Epoch 5 train_acc = 0.9505500197410583 test_acc = 0.9490000009536743\n",
            "Epoch 6 train_acc = 0.9505500197410583 test_acc = 0.9490000009536743\n",
            "Epoch 6 batch 0 loss = 0.012062798254191875\n",
            "Epoch 6 batch 100 loss = 0.018727857619524002\n",
            "Epoch 6 batch 200 loss = 0.011964074335992336\n",
            "Epoch 6 batch 300 loss = 0.016115138307213783\n",
            "Epoch 6 batch 400 loss = 0.011684365570545197\n",
            "Epoch 6 train_acc = 0.9538666605949402 test_acc = 0.9521999955177307\n",
            "Epoch 7 train_acc = 0.9538666605949402 test_acc = 0.9521999955177307\n",
            "Epoch 7 batch 0 loss = 0.009548474103212357\n",
            "Epoch 7 batch 100 loss = 0.015257418155670166\n",
            "Epoch 7 batch 200 loss = 0.014455524273216724\n",
            "Epoch 7 batch 300 loss = 0.013620579615235329\n",
            "Epoch 7 batch 400 loss = 0.025784403085708618\n",
            "Epoch 7 train_acc = 0.9594833254814148 test_acc = 0.9574999809265137\n",
            "Epoch 8 train_acc = 0.9594833254814148 test_acc = 0.9574999809265137\n",
            "Epoch 8 batch 0 loss = 0.016058573499321938\n",
            "Epoch 8 batch 100 loss = 0.016884518787264824\n",
            "Epoch 8 batch 200 loss = 0.008713495917618275\n",
            "Epoch 8 batch 300 loss = 0.01276418287307024\n",
            "Epoch 8 batch 400 loss = 0.006204450037330389\n",
            "Epoch 8 train_acc = 0.963283360004425 test_acc = 0.960099995136261\n",
            "Epoch 9 train_acc = 0.963283360004425 test_acc = 0.960099995136261\n",
            "Epoch 9 batch 0 loss = 0.013784745708107948\n",
            "Epoch 9 batch 100 loss = 0.006467532366514206\n",
            "Epoch 9 batch 200 loss = 0.028164584189653397\n",
            "Epoch 9 batch 300 loss = 0.0036084384191781282\n",
            "Epoch 9 batch 400 loss = 0.012581105343997478\n",
            "Epoch 9 train_acc = 0.9642333388328552 test_acc = 0.9616999626159668\n"
          ]
        }
      ]
    },
    {
      "cell_type": "markdown",
      "source": [
        "## Visualization"
      ],
      "metadata": {
        "id": "TlOyuw0wRyLE"
      }
    },
    {
      "cell_type": "code",
      "source": [
        "imgs,labels = next(iter(test_loader))\n",
        "img = imgs[0].reshape(28,28)\n",
        "gt_label = labels[0]\n",
        "\n",
        "import matplotlib.pyplot as plt\n",
        "print(gt_label)\n",
        "plt.imshow(img)"
      ],
      "metadata": {
        "id": "5xBYcCb6NblW",
        "outputId": "88b6e66e-282a-4e61-e6f5-1d7e542bcc69",
        "colab": {
          "base_uri": "https://localhost:8080/",
          "height": 465
        }
      },
      "execution_count": 93,
      "outputs": [
        {
          "output_type": "stream",
          "name": "stdout",
          "text": [
            "7\n"
          ]
        },
        {
          "output_type": "execute_result",
          "data": {
            "text/plain": [
              "<matplotlib.image.AxesImage at 0x7c5c56ea8eb0>"
            ]
          },
          "metadata": {},
          "execution_count": 93
        },
        {
          "output_type": "display_data",
          "data": {
            "text/plain": [
              "<Figure size 640x480 with 1 Axes>"
            ],
            "image/png": "[encoded data removed]"
          },
          "metadata": {}
        }
      ]
    },
    {
      "cell_type": "code",
      "source": [
        "pred = jnp.argmax(MLP_predict(MLP,np.ravel(img)))\n",
        "pred"
      ],
      "metadata": {
        "id": "88_A1hKfR9hs",
        "outputId": "cad9b19d-be2d-434f-a0b6-9563911fbf6e",
        "colab": {
          "base_uri": "https://localhost:8080/"
        }
      },
      "execution_count": 98,
      "outputs": [
        {
          "output_type": "execute_result",
          "data": {
            "text/plain": [
              "Array(7, dtype=int32)"
            ]
          },
          "metadata": {},
          "execution_count": 98
        }
      ]
    },
    {
      "cell_type": "code",
      "source": [],
      "metadata": {
        "id": "AuejVuLOSVgx"
      },
      "execution_count": null,
      "outputs": []
    }
  ],
  "metadata": {
    "kernelspec": {
      "display_name": "Python 3",
      "name": "python3"
    },
    "language_info": {
      "codemirror_mode": {
        "name": "ipython",
        "version": 3
      },
      "file_extension": ".py",
      "mimetype": "text/x-python",
      "name": "python",
      "nbconvert_exporter": "python",
      "pygments_lexer": "ipython3",
      "version": "3.12.5"
    },
    "colab": {
      "provenance": []
    }
  },
  "nbformat": 4,
  "nbformat_minor": 0
}