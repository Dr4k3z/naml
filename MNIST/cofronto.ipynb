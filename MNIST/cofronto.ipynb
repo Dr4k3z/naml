{
 "cells": [
  {
   "cell_type": "code",
   "execution_count": 1,
   "metadata": {},
   "outputs": [],
   "source": [
    "from MLP import MLP\n",
    "from ETL import ETL, DataLoader"
   ]
  },
  {
   "cell_type": "code",
   "execution_count": 2,
   "metadata": {},
   "outputs": [],
   "source": [
    "X_train, y_train, X_test, y_test = ETL(\"mnist.npz\").loadData(onehot=True)\n",
    "train_loader = DataLoader(X_train, y_train, batch_size=100)"
   ]
  },
  {
   "cell_type": "code",
   "execution_count": null,
   "metadata": {},
   "outputs": [],
   "source": [
    "mlp = MLP([784,128,128,10])\n",
    "mlp.train(train_loader, epochs=10, lr=1e-3, show=False)\n",
    "mlp.save_model('mlp.pkl')\n",
    "\n",
    "print(f\"Final loss: {mlp.loss(X_train, y_train)}\")"
   ]
  }
 ],
 "metadata": {
  "kernelspec": {
   "display_name": "stats",
   "language": "python",
   "name": "python3"
  },
  "language_info": {
   "codemirror_mode": {
    "name": "ipython",
    "version": 3
   },
   "file_extension": ".py",
   "mimetype": "text/x-python",
   "name": "python",
   "nbconvert_exporter": "python",
   "pygments_lexer": "ipython3",
   "version": "3.12.5"
  }
 },
 "nbformat": 4,
 "nbformat_minor": 2
}
