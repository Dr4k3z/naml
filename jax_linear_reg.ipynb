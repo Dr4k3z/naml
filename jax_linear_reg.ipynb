{
  "nbformat": 4,
  "nbformat_minor": 0,
  "metadata": {
    "colab": {
      "provenance": [],
      "toc_visible": true,
      "gpuType": "T4"
    },
    "kernelspec": {
      "name": "python3",
      "display_name": "Python 3"
    },
    "language_info": {
      "name": "python"
    },
    "accelerator": "GPU"
  },
  "cells": [
    {
      "cell_type": "code",
      "execution_count": 1,
      "metadata": {
        "id": "w_RPucUfbeMN"
      },
      "outputs": [],
      "source": [
        "import jax.numpy as jnp\n",
        "import matplotlib.pyplot as plt\n",
        "\n",
        "from jax import jit\n",
        "from jax import random"
      ]
    },
    {
      "cell_type": "markdown",
      "source": [
        "## Create dataset"
      ],
      "metadata": {
        "id": "Age1EYF_b5MA"
      }
    },
    {
      "cell_type": "code",
      "source": [
        "# true model: Y = 0.5x_1 + 3x_2 - 0.4x_3\n",
        "\n",
        "x_1 = jnp.linspace(0,1,1000)\n",
        "x_2 = jnp.linspace(0,4,1000)\n",
        "x_3 = jnp.linspace(0,0.5,1000)\n",
        "\n",
        "X = jnp.vstack((x_1,x_2,x_3)).T\n",
        "\n",
        "w_real = jnp.array([0.5,3,-0.4])\n",
        "\n",
        "y = jnp.dot(X,w_real)"
      ],
      "metadata": {
        "id": "QOWMWG_8b27i"
      },
      "execution_count": 3,
      "outputs": []
    },
    {
      "cell_type": "code",
      "source": [
        "# Add gaussian noise\n",
        "\n",
        "y = y + 0.4*jnp.random.randn(1000)"
      ],
      "metadata": {
        "id": "0JNdGNPtcdLW"
      },
      "execution_count": null,
      "outputs": []
    }
  ]
}