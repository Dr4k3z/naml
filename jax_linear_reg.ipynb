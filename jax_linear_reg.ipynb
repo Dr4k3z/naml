{
  "nbformat": 4,
  "nbformat_minor": 0,
  "metadata": {
    "colab": {
      "provenance": [],
      "toc_visible": true,
      "gpuType": "T4"
    },
    "kernelspec": {
      "name": "python3",
      "display_name": "Python 3"
    },
    "language_info": {
      "name": "python"
    },
    "accelerator": "GPU"
  },
  "cells": [
    {
      "cell_type": "code",
      "execution_count": 5,
      "metadata": {
        "id": "w_RPucUfbeMN"
      },
      "outputs": [],
      "source": [
        "import jax.numpy as jnp\n",
        "import matplotlib.pyplot as plt\n",
        "\n",
        "from jax import jit\n",
        "import jax"
      ]
    },
    {
      "cell_type": "markdown",
      "source": [
        "## Create dataset"
      ],
      "metadata": {
        "id": "Age1EYF_b5MA"
      }
    },
    {
      "cell_type": "code",
      "source": [
        "# true model: Y = 0.5x_1 + 3x_2 - 0.4x_3\n",
        "\n",
        "N = 1000\n",
        "x_1 = jnp.linspace(0,1,N)\n",
        "x_2 = jnp.linspace(0,4,N)\n",
        "x_3 = jnp.linspace(0,0.5,N)\n",
        "\n",
        "X = jnp.vstack((x_1,x_2,x_3)).T\n",
        "\n",
        "w_real = jnp.array([0.5,3,-0.4])\n",
        "\n",
        "y = jnp.dot(X,w_real)"
      ],
      "metadata": {
        "id": "QOWMWG_8b27i"
      },
      "execution_count": 64,
      "outputs": []
    },
    {
      "cell_type": "code",
      "source": [
        "# Add gaussian noise\n",
        "key = jax.random.PRNGKey(0)\n",
        "\n",
        "y = y + 0.4*jax.random.normal(key, shape=(N,))"
      ],
      "metadata": {
        "id": "0JNdGNPtcdLW"
      },
      "execution_count": 66,
      "outputs": []
    },
    {
      "cell_type": "code",
      "source": [
        "train_size = int(0.8*N)\n",
        "test_size = N - train_size\n",
        "\n",
        "key,subkey = jax.random.split(key)\n",
        "idx = jax.random.permutation(subkey,jnp.arange(N))\n",
        "\n",
        "train_idx = idx[:train_size]\n",
        "test_idx = idx[train_size:]\n",
        "\n",
        "X_train = X[train_idx]\n",
        "y_train = y[train_idx]\n",
        "\n",
        "X_test = X[test_idx]\n",
        "y_test = y[test_idx]"
      ],
      "metadata": {
        "id": "5v47IlwQkGW3"
      },
      "execution_count": 94,
      "outputs": []
    },
    {
      "cell_type": "markdown",
      "source": [
        "## Linear Regression using JAX"
      ],
      "metadata": {
        "id": "JMfvcLIZeK-P"
      }
    },
    {
      "cell_type": "code",
      "source": [
        "def model(theta,X):\n",
        "  return jnp.dot(X,theta)\n",
        "\n",
        "@jit\n",
        "def loss_MSE(theta,X,y):\n",
        "  return jnp.mean((y - model(theta,X))**2)"
      ],
      "metadata": {
        "id": "nvOmwP2Ad83r"
      },
      "execution_count": 44,
      "outputs": []
    },
    {
      "cell_type": "code",
      "source": [
        "loss_grad = jit(jax.grad(loss_MSE))\n",
        "\n",
        "def optimize(theta,X,y,lr=0.1):\n",
        "  tol = 1e-6\n",
        "  max_iter = 15000\n",
        "\n",
        "  for i in range(max_iter):\n",
        "    grad = loss_grad(theta,X,y)\n",
        "    theta = theta - lr*grad\n",
        "\n",
        "    if i % 1000 == 0:\n",
        "      print(f\"Iteration: {i}, Loss: {loss_MSE(theta,X,y)}\")\n",
        "\n",
        "    #if jnp.linalg.norm(grad) < tol:\n",
        "    #  break\n",
        "\n",
        "  return theta"
      ],
      "metadata": {
        "id": "w4crvGs-eg4h"
      },
      "execution_count": 84,
      "outputs": []
    },
    {
      "cell_type": "code",
      "source": [
        "theta = jax.random.normal(key, shape=(3,))\n",
        "theta = optimize(theta,X_train,y_train,lr=0.15)"
      ],
      "metadata": {
        "id": "8Hl4jeOsfCkI",
        "outputId": "d4a5c802-51e4-41ea-d6ff-1ee0e4c50a51",
        "colab": {
          "base_uri": "https://localhost:8080/"
        }
      },
      "execution_count": 88,
      "outputs": [
        {
          "output_type": "stream",
          "name": "stdout",
          "text": [
            "Iteration: 0, Loss: 32.01405334472656\n",
            "Iteration: 1000, Loss: 23.70366859436035\n",
            "Iteration: 2000, Loss: 23.70366859436035\n",
            "Iteration: 3000, Loss: 23.70366859436035\n",
            "Iteration: 4000, Loss: 23.70366859436035\n",
            "Iteration: 5000, Loss: 23.70366859436035\n",
            "Iteration: 6000, Loss: 23.70366859436035\n",
            "Iteration: 7000, Loss: 23.70366859436035\n",
            "Iteration: 8000, Loss: 23.70366859436035\n",
            "Iteration: 9000, Loss: 23.70366859436035\n",
            "Iteration: 10000, Loss: 23.70366859436035\n",
            "Iteration: 11000, Loss: 23.70366859436035\n",
            "Iteration: 12000, Loss: 23.70366859436035\n",
            "Iteration: 13000, Loss: 23.70366859436035\n",
            "Iteration: 14000, Loss: 23.70366859436035\n"
          ]
        }
      ]
    },
    {
      "cell_type": "code",
      "source": [
        "train_error = loss_MSE(theta,X_train,y_train)\n",
        "test_error = loss_MSE(theta,X_test,y_test)\n",
        "\n",
        "print(f\"Train error: {train_error}\")\n",
        "print(f\"Test error: {test_error}\")"
      ],
      "metadata": {
        "id": "-ZRbwFkAfHnV",
        "outputId": "adfd2d84-3bfe-491f-f89e-1554bbcdeaa9",
        "colab": {
          "base_uri": "https://localhost:8080/"
        }
      },
      "execution_count": 97,
      "outputs": [
        {
          "output_type": "stream",
          "name": "stdout",
          "text": [
            "Train error: 3.8326499462127686\n",
            "Test error: 4.1850714683532715\n"
          ]
        }
      ]
    }
  ]
}